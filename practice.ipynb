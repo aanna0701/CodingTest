{
 "cells": [
  {
   "cell_type": "code",
   "execution_count": 27,
   "metadata": {},
   "outputs": [],
   "source": [
    "n = int(input())\n",
    "n_5 = 0\n",
    "n_3 = 0\n",
    "result = 0\n",
    "tmp = 0\n",
    "\n",
    "\n",
    "while(n >= 0):\n",
    "    \n",
    "    r_5 = n % 5\n",
    "    r_3 = n % 3\n",
    "    \n",
    "    n_5 = n // 5\n",
    "    n_3 = n // 3\n",
    "    \n",
    "    if r_5 == 0:\n",
    "        result += n_5\n",
    "        print(result)\n",
    "        break\n",
    "    \n",
    "    n-= 3\n",
    "    result += 1\n",
    "    \n",
    "else:\n",
    "    print(-1)\n",
    "    "
   ]
  },
  {
   "cell_type": "code",
   "execution_count": 29,
   "metadata": {},
   "outputs": [
    {
     "name": "stdout",
     "output_type": "stream",
     "text": [
      "4\n"
     ]
    }
   ],
   "source": [
    "\n",
    "        "
   ]
  },
  {
   "cell_type": "code",
   "execution_count": null,
   "metadata": {},
   "outputs": [],
   "source": []
  }
 ],
 "metadata": {
  "interpreter": {
   "hash": "fbb075e9f8d36c90b4bfd93775d932d3003755f4f19ee1480163bca1cd8d906c"
  },
  "kernelspec": {
   "display_name": "Python 3.8.3 64-bit ('base': conda)",
   "name": "python3"
  },
  "language_info": {
   "codemirror_mode": {
    "name": "ipython",
    "version": 3
   },
   "file_extension": ".py",
   "mimetype": "text/x-python",
   "name": "python",
   "nbconvert_exporter": "python",
   "pygments_lexer": "ipython3",
   "version": "3.8.3"
  },
  "orig_nbformat": 4
 },
 "nbformat": 4,
 "nbformat_minor": 2
}
